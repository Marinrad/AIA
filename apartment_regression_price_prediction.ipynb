{
 "cells": [
  {
   "attachments": {},
   "cell_type": "markdown",
   "id": "1e84aff8",
   "metadata": {},
   "source": [
    "# Apartment price prediction with sklearn"
   ]
  },
  {
   "cell_type": "markdown",
   "id": "d9ca506b",
   "metadata": {},
   "source": [
    "### Libraries and settings"
   ]
  },
  {
   "cell_type": "code",
   "execution_count": 62,
   "id": "3cc498a3",
   "metadata": {},
   "outputs": [],
   "source": [
    "# Libraries\n",
    "import numpy as np\n",
    "import pandas as pd\n",
    "import matplotlib.pyplot as plt\n",
    "from sklearn.ensemble import RandomForestRegressor\n",
    "from sklearn.linear_model import LinearRegression\n",
    "from sklearn.model_selection import train_test_split\n",
    "from sklearn.metrics import root_mean_squared_error"
   ]
  },
  {
   "cell_type": "markdown",
   "id": "514d3419",
   "metadata": {},
   "source": [
    "### Import the apartment data"
   ]
  },
  {
   "cell_type": "code",
   "execution_count": 63,
   "id": "fc8846ed",
   "metadata": {
    "scrolled": true
   },
   "outputs": [
    {
     "name": "stdout",
     "output_type": "stream",
     "text": [
      "(819, 14)\n"
     ]
    },
    {
     "data": {
      "text/html": [
       "<div>\n",
       "<style scoped>\n",
       "    .dataframe tbody tr th:only-of-type {\n",
       "        vertical-align: middle;\n",
       "    }\n",
       "\n",
       "    .dataframe tbody tr th {\n",
       "        vertical-align: top;\n",
       "    }\n",
       "\n",
       "    .dataframe thead th {\n",
       "        text-align: right;\n",
       "    }\n",
       "</style>\n",
       "<table border=\"1\" class=\"dataframe\">\n",
       "  <thead>\n",
       "    <tr style=\"text-align: right;\">\n",
       "      <th></th>\n",
       "      <th>bfs_number</th>\n",
       "      <th>rooms</th>\n",
       "      <th>area</th>\n",
       "      <th>price</th>\n",
       "      <th>postalcode</th>\n",
       "      <th>address</th>\n",
       "      <th>town</th>\n",
       "      <th>description_raw</th>\n",
       "      <th>bfs_name</th>\n",
       "      <th>pop</th>\n",
       "      <th>pop_dens</th>\n",
       "      <th>frg_pct</th>\n",
       "      <th>emp</th>\n",
       "      <th>tax_income</th>\n",
       "    </tr>\n",
       "  </thead>\n",
       "  <tbody>\n",
       "    <tr>\n",
       "      <th>0</th>\n",
       "      <td>118</td>\n",
       "      <td>3.0</td>\n",
       "      <td>49</td>\n",
       "      <td>1441</td>\n",
       "      <td>8630</td>\n",
       "      <td>Neuhusstrasse 6, 8630 Rüti ZH</td>\n",
       "      <td>Rüti ZH</td>\n",
       "      <td>«Gemütliche Wohnung im Grünen»</td>\n",
       "      <td>Rüti (ZH)</td>\n",
       "      <td>12286</td>\n",
       "      <td>1221.272366</td>\n",
       "      <td>24.841283</td>\n",
       "      <td>5053.0</td>\n",
       "      <td>66676</td>\n",
       "    </tr>\n",
       "    <tr>\n",
       "      <th>1</th>\n",
       "      <td>118</td>\n",
       "      <td>3.0</td>\n",
       "      <td>111</td>\n",
       "      <td>2600</td>\n",
       "      <td>8630</td>\n",
       "      <td>Widacherstrasse 5, 8630 Rüti ZH</td>\n",
       "      <td>Rüti ZH</td>\n",
       "      <td>«3 Zimmer-Maisonette-Wohnung»</td>\n",
       "      <td>Rüti (ZH)</td>\n",
       "      <td>12286</td>\n",
       "      <td>1221.272366</td>\n",
       "      <td>24.841283</td>\n",
       "      <td>5053.0</td>\n",
       "      <td>66676</td>\n",
       "    </tr>\n",
       "    <tr>\n",
       "      <th>2</th>\n",
       "      <td>118</td>\n",
       "      <td>3.0</td>\n",
       "      <td>58</td>\n",
       "      <td>1490</td>\n",
       "      <td>8630</td>\n",
       "      <td>Widenweg 14, 8630 Rüti ZH</td>\n",
       "      <td>Rüti ZH</td>\n",
       "      <td>«Ruhig &amp; Grün , Genau was Sie suchen !»</td>\n",
       "      <td>Rüti (ZH)</td>\n",
       "      <td>12286</td>\n",
       "      <td>1221.272366</td>\n",
       "      <td>24.841283</td>\n",
       "      <td>5053.0</td>\n",
       "      <td>66676</td>\n",
       "    </tr>\n",
       "    <tr>\n",
       "      <th>3</th>\n",
       "      <td>118</td>\n",
       "      <td>4.0</td>\n",
       "      <td>118</td>\n",
       "      <td>3240</td>\n",
       "      <td>8630</td>\n",
       "      <td>Rain 1, 8630 Rüti ZH</td>\n",
       "      <td>Rüti ZH</td>\n",
       "      <td>«Gemütliches 4-Zimmer-Reihenhaus in zentraler ...</td>\n",
       "      <td>Rüti (ZH)</td>\n",
       "      <td>12286</td>\n",
       "      <td>1221.272366</td>\n",
       "      <td>24.841283</td>\n",
       "      <td>5053.0</td>\n",
       "      <td>66676</td>\n",
       "    </tr>\n",
       "    <tr>\n",
       "      <th>4</th>\n",
       "      <td>118</td>\n",
       "      <td>3.0</td>\n",
       "      <td>66</td>\n",
       "      <td>1450</td>\n",
       "      <td>8630</td>\n",
       "      <td>Bachtelstrasse 24b, 8630 Rüti ZH</td>\n",
       "      <td>Rüti ZH</td>\n",
       "      <td>«Schöne 3-Zimmerwohnung in ruhigem Quartier»</td>\n",
       "      <td>Rüti (ZH)</td>\n",
       "      <td>12286</td>\n",
       "      <td>1221.272366</td>\n",
       "      <td>24.841283</td>\n",
       "      <td>5053.0</td>\n",
       "      <td>66676</td>\n",
       "    </tr>\n",
       "    <tr>\n",
       "      <th>5</th>\n",
       "      <td>118</td>\n",
       "      <td>2.5</td>\n",
       "      <td>61</td>\n",
       "      <td>1307</td>\n",
       "      <td>8630</td>\n",
       "      <td>Faegswilerstrasse 1, 8630 Rüti ZH</td>\n",
       "      <td>Rüti ZH</td>\n",
       "      <td>«Kleine Attikawohnung mit grossem Charme»</td>\n",
       "      <td>Rüti (ZH)</td>\n",
       "      <td>12286</td>\n",
       "      <td>1221.272366</td>\n",
       "      <td>24.841283</td>\n",
       "      <td>5053.0</td>\n",
       "      <td>66676</td>\n",
       "    </tr>\n",
       "    <tr>\n",
       "      <th>6</th>\n",
       "      <td>88</td>\n",
       "      <td>3.5</td>\n",
       "      <td>65</td>\n",
       "      <td>1850</td>\n",
       "      <td>8173</td>\n",
       "      <td>Zürcherstrasse 1, 8173 Neerach</td>\n",
       "      <td>Neerach</td>\n",
       "      <td>«Attraktive 3.5-Zimmer-EG-Wohnung in Neerach»</td>\n",
       "      <td>Neerach</td>\n",
       "      <td>3175</td>\n",
       "      <td>525.662252</td>\n",
       "      <td>13.322835</td>\n",
       "      <td>641.0</td>\n",
       "      <td>110502</td>\n",
       "    </tr>\n",
       "    <tr>\n",
       "      <th>7</th>\n",
       "      <td>88</td>\n",
       "      <td>3.5</td>\n",
       "      <td>101</td>\n",
       "      <td>2420</td>\n",
       "      <td>8173</td>\n",
       "      <td>Vogtmühlestrasse 2, 8173 Neerach</td>\n",
       "      <td>Neerach</td>\n",
       "      <td>«Wohnen im steuergünstigen Neerach»</td>\n",
       "      <td>Neerach</td>\n",
       "      <td>3175</td>\n",
       "      <td>525.662252</td>\n",
       "      <td>13.322835</td>\n",
       "      <td>641.0</td>\n",
       "      <td>110502</td>\n",
       "    </tr>\n",
       "    <tr>\n",
       "      <th>8</th>\n",
       "      <td>88</td>\n",
       "      <td>2.5</td>\n",
       "      <td>68</td>\n",
       "      <td>2060</td>\n",
       "      <td>8173</td>\n",
       "      <td>Vogtmühlestrasse 2, 8173 Neerach</td>\n",
       "      <td>Neerach</td>\n",
       "      <td>«Wohnen im steuergünstigen Neerach»</td>\n",
       "      <td>Neerach</td>\n",
       "      <td>3175</td>\n",
       "      <td>525.662252</td>\n",
       "      <td>13.322835</td>\n",
       "      <td>641.0</td>\n",
       "      <td>110502</td>\n",
       "    </tr>\n",
       "    <tr>\n",
       "      <th>9</th>\n",
       "      <td>88</td>\n",
       "      <td>5.5</td>\n",
       "      <td>191</td>\n",
       "      <td>3400</td>\n",
       "      <td>8173</td>\n",
       "      <td>Steinmaurstrasse 19B, 8173 Neerach</td>\n",
       "      <td>Neerach</td>\n",
       "      <td>«Traumhaft schöne 5 1/2 Zimmer Maisonette-Wohn...</td>\n",
       "      <td>Neerach</td>\n",
       "      <td>3175</td>\n",
       "      <td>525.662252</td>\n",
       "      <td>13.322835</td>\n",
       "      <td>641.0</td>\n",
       "      <td>110502</td>\n",
       "    </tr>\n",
       "  </tbody>\n",
       "</table>\n",
       "</div>"
      ],
      "text/plain": [
       "   bfs_number  rooms  area  price  postalcode  \\\n",
       "0         118    3.0    49   1441        8630   \n",
       "1         118    3.0   111   2600        8630   \n",
       "2         118    3.0    58   1490        8630   \n",
       "3         118    4.0   118   3240        8630   \n",
       "4         118    3.0    66   1450        8630   \n",
       "5         118    2.5    61   1307        8630   \n",
       "6          88    3.5    65   1850        8173   \n",
       "7          88    3.5   101   2420        8173   \n",
       "8          88    2.5    68   2060        8173   \n",
       "9          88    5.5   191   3400        8173   \n",
       "\n",
       "                              address      town  \\\n",
       "0       Neuhusstrasse 6, 8630 Rüti ZH   Rüti ZH   \n",
       "1     Widacherstrasse 5, 8630 Rüti ZH   Rüti ZH   \n",
       "2           Widenweg 14, 8630 Rüti ZH   Rüti ZH   \n",
       "3                Rain 1, 8630 Rüti ZH   Rüti ZH   \n",
       "4    Bachtelstrasse 24b, 8630 Rüti ZH   Rüti ZH   \n",
       "5   Faegswilerstrasse 1, 8630 Rüti ZH   Rüti ZH   \n",
       "6      Zürcherstrasse 1, 8173 Neerach   Neerach   \n",
       "7    Vogtmühlestrasse 2, 8173 Neerach   Neerach   \n",
       "8    Vogtmühlestrasse 2, 8173 Neerach   Neerach   \n",
       "9  Steinmaurstrasse 19B, 8173 Neerach   Neerach   \n",
       "\n",
       "                                     description_raw   bfs_name    pop  \\\n",
       "0                     «Gemütliche Wohnung im Grünen»  Rüti (ZH)  12286   \n",
       "1                      «3 Zimmer-Maisonette-Wohnung»  Rüti (ZH)  12286   \n",
       "2            «Ruhig & Grün , Genau was Sie suchen !»  Rüti (ZH)  12286   \n",
       "3  «Gemütliches 4-Zimmer-Reihenhaus in zentraler ...  Rüti (ZH)  12286   \n",
       "4       «Schöne 3-Zimmerwohnung in ruhigem Quartier»  Rüti (ZH)  12286   \n",
       "5          «Kleine Attikawohnung mit grossem Charme»  Rüti (ZH)  12286   \n",
       "6      «Attraktive 3.5-Zimmer-EG-Wohnung in Neerach»    Neerach   3175   \n",
       "7                «Wohnen im steuergünstigen Neerach»    Neerach   3175   \n",
       "8                «Wohnen im steuergünstigen Neerach»    Neerach   3175   \n",
       "9  «Traumhaft schöne 5 1/2 Zimmer Maisonette-Wohn...    Neerach   3175   \n",
       "\n",
       "      pop_dens    frg_pct     emp  tax_income  \n",
       "0  1221.272366  24.841283  5053.0       66676  \n",
       "1  1221.272366  24.841283  5053.0       66676  \n",
       "2  1221.272366  24.841283  5053.0       66676  \n",
       "3  1221.272366  24.841283  5053.0       66676  \n",
       "4  1221.272366  24.841283  5053.0       66676  \n",
       "5  1221.272366  24.841283  5053.0       66676  \n",
       "6   525.662252  13.322835   641.0      110502  \n",
       "7   525.662252  13.322835   641.0      110502  \n",
       "8   525.662252  13.322835   641.0      110502  \n",
       "9   525.662252  13.322835   641.0      110502  "
      ]
     },
     "execution_count": 63,
     "metadata": {},
     "output_type": "execute_result"
    }
   ],
   "source": [
    "# Read and select variables\n",
    "df_orig = pd.read_csv(\"original_apartment_data_analytics_hs24.csv\", sep=\",\", encoding='utf-8')\n",
    "\n",
    "# Remove missing values\n",
    "df = df_orig.dropna()\n",
    "# Remove duplicates\n",
    "df = df.drop_duplicates()\n",
    "\n",
    "print(df.shape)\n",
    "df.head(10)"
   ]
  },
  {
   "cell_type": "code",
   "execution_count": 64,
   "id": "0cdf851d",
   "metadata": {},
   "outputs": [
    {
     "data": {
      "text/plain": [
       "Index(['bfs_number', 'rooms', 'area', 'price', 'postalcode', 'address', 'town',\n",
       "       'description_raw', 'bfs_name', 'pop', 'pop_dens', 'frg_pct', 'emp',\n",
       "       'tax_income'],\n",
       "      dtype='object')"
      ]
     },
     "execution_count": 64,
     "metadata": {},
     "output_type": "execute_result"
    }
   ],
   "source": [
    "# Meaning of variables:\n",
    "# bfs_number: official municipality id\n",
    "# bfs_name: official municipality name\n",
    "# pop: number of residents (=population)\n",
    "# pop_dens: population density (pop per km2)\n",
    "# frg_pct: percentage foreigners\n",
    "# emp: numer of employees\n",
    "\n",
    "df.columns"
   ]
  },
  {
   "cell_type": "markdown",
   "id": "62d8d06c",
   "metadata": {},
   "source": [
    "### Train/Test splitting"
   ]
  },
  {
   "cell_type": "code",
   "execution_count": 65,
   "id": "4b096afe",
   "metadata": {},
   "outputs": [],
   "source": [
    "# Create train and test samples\n",
    "X_train, X_test, y_train, y_test = train_test_split(df[['rooms', 'area', 'pop', 'pop_dens', 'frg_pct',\n",
    "                                                        'emp', 'tax_income']], \n",
    "                                                         df['price'], \n",
    "                                                        test_size=0.20, \n",
    "                                                        random_state=42)"
   ]
  },
  {
   "cell_type": "markdown",
   "id": "1ec39ee0",
   "metadata": {},
   "source": [
    "<hr >\n",
    "\n",
    "### Training the models\n",
    "\n",
    "#### Questions\n",
    "- What does the score represent? \n",
    "- How is the root mean squared error calculated?\n",
    "- How good are the model performing? 1=bad, 10=perfect\n",
    "- Is the LinearRegression model overfitting or underfitting?\n",
    "- Is the RandomForestRegressor overfitting or underfitting?\n"
   ]
  },
  {
   "cell_type": "code",
   "execution_count": 66,
   "id": "581471a2",
   "metadata": {},
   "outputs": [
    {
     "name": "stdout",
     "output_type": "stream",
     "text": [
      "Train score:  0.565204508233528\n",
      "Test score:  0.42937444348830156\n",
      "Train RMSE:  831.6459165973971\n",
      "Test RMSE:  974.2410194498636\n"
     ]
    }
   ],
   "source": [
    "# train linear_model = LinearRegression()\n",
    "linear_model = LinearRegression()\n",
    "\n",
    "# Fit the model\n",
    "linear_model.fit(X_train, y_train)\n",
    "print(\"Train score: \", linear_model.score(X_train, y_train))\n",
    "print(\"Test score: \", linear_model.score(X_test, y_test))\n",
    "\n",
    "print(\"Train RMSE: \", root_mean_squared_error(y_train, linear_model.predict(X_train)))\n",
    "print(\"Test RMSE: \", root_mean_squared_error(y_test, linear_model.predict(X_test)))\n",
    " "
   ]
  },
  {
   "cell_type": "code",
   "execution_count": 67,
   "id": "e88abd75",
   "metadata": {},
   "outputs": [
    {
     "name": "stdout",
     "output_type": "stream",
     "text": [
      "Train score:  0.884612470314029\n",
      "Test score:  0.4410240328691283\n",
      "Train RMSE:  428.4255679355073\n",
      "Test RMSE:  964.244943176846\n"
     ]
    }
   ],
   "source": [
    "# train random_forest_model = RandomForestRegressor()\n",
    "random_forest_model = RandomForestRegressor(random_state=42)\n",
    "\n",
    "# Fit the model\n",
    "random_forest_model.fit(X_train, y_train)\n",
    "print(\"Train score: \", random_forest_model.score(X_train, y_train))\n",
    "print(\"Test score: \", random_forest_model.score(X_test, y_test))\n",
    "\n",
    "print(\"Train RMSE: \", root_mean_squared_error(y_train, random_forest_model.predict(X_train)))\n",
    "print(\"Test RMSE: \", root_mean_squared_error(y_test, random_forest_model.predict(X_test)))"
   ]
  },
  {
   "cell_type": "markdown",
   "id": "f47d36fb",
   "metadata": {},
   "source": [
    "<hr >"
   ]
  },
  {
   "cell_type": "markdown",
   "id": "047d5483",
   "metadata": {},
   "source": [
    "### Random Forest feature importance"
   ]
  },
  {
   "cell_type": "code",
   "execution_count": 68,
   "id": "0e709a3a",
   "metadata": {},
   "outputs": [
    {
     "name": "stdout",
     "output_type": "stream",
     "text": [
      "['area' 'rooms' 'pop_dens' 'emp' 'pop' 'tax_income' 'frg_pct']\n",
      "[0.62250354 0.11204442 0.08101948 0.08055365 0.06399313 0.02561926\n",
      " 0.01426653]\n"
     ]
    },
    {
     "data": {
      "text/plain": [
       "<Axes: ylabel='features'>"
      ]
     },
     "execution_count": 68,
     "metadata": {},
     "output_type": "execute_result"
    }
   ],
   "source": [
    "cols = random_forest_model.feature_names_in_\n",
    "\n",
    "# Derive feature importance from random forest\n",
    "importances = random_forest_model.feature_importances_\n",
    "std         = np.std([tree.feature_importances_ for tree in random_forest_model.estimators_], axis=0)\n",
    "indices     = np.argsort(importances)[::-1]\n",
    "\n",
    "# Print col-names and importances-values\n",
    "print( cols[indices] )\n",
    "print( importances[indices] )\n",
    "\n",
    "# Barplot with feature importance\n",
    "df_fi = pd.DataFrame({'features':cols,'importances': importances})\n",
    "df_fi.sort_values('importances', inplace=True)\n",
    "df_fi.plot(kind='barh', \n",
    "           y='importances',\n",
    "           x='features', \n",
    "           color='darkred', \n",
    "           figsize=(6,3))"
   ]
  },
  {
   "cell_type": "markdown",
   "id": "141a7b40",
   "metadata": {},
   "source": [
    "### Calculate the residuals"
   ]
  },
  {
   "cell_type": "code",
   "execution_count": 69,
   "id": "2f36c652",
   "metadata": {},
   "outputs": [],
   "source": [
    "# make predictions\n",
    "y_train_predict = random_forest_model.predict(X_train)\n",
    "residuals = y_train - y_train_predict"
   ]
  },
  {
   "cell_type": "code",
   "execution_count": 70,
   "id": "92f3cffc",
   "metadata": {},
   "outputs": [
    {
     "data": {
      "text/plain": [
       "<Figure size 600x300 with 1 Axes>"
      ]
     },
     "metadata": {},
     "output_type": "display_data"
    },
    {
     "data": {
      "text/plain": [
       "<Figure size 1000x600 with 1 Axes>"
      ]
     },
     "metadata": {},
     "output_type": "display_data"
    }
   ],
   "source": [
    "# Calculate residuals\n",
    "\n",
    "plt.figure(figsize=(10, 6))\n",
    "plt.scatter(y_train, residuals, alpha=0.5)\n",
    "plt.axhline(y=0, color='r', linestyle='--')\n",
    "plt.xlabel('Actual Prices')\n",
    "plt.ylabel('Residuals')\n",
    "plt.title('Residuals vs Actual Prices')\n",
    "plt.show()"
   ]
  },
  {
   "cell_type": "code",
   "execution_count": 71,
   "id": "f1cb8d25",
   "metadata": {},
   "outputs": [
    {
     "data": {
      "text/plain": [
       "<Figure size 800x400 with 1 Axes>"
      ]
     },
     "metadata": {},
     "output_type": "display_data"
    }
   ],
   "source": [
    "# Plot histogram of residuals\n",
    "fig = plt.figure( figsize=(8,4))\n",
    "n, bins, patches = plt.hist(x=residuals, \n",
    "                            bins=20, \n",
    "                            color='blue',\n",
    "                            alpha=0.5\n",
    "                   )\n",
    "\n",
    "# Set labels\n",
    "plt.xlabel('residuals', fontsize=10, labelpad=10)\n",
    "plt.ylabel('frequency', fontsize=10, labelpad=10)\n",
    "plt.title('Histogram of model residuals', fontsize=12, pad=10)\n",
    "\n",
    "plt.show()"
   ]
  },
  {
   "cell_type": "markdown",
   "id": "5302ad72",
   "metadata": {},
   "source": [
    "### Error Analysis\n",
    "\n",
    "Analyse the predictions. See which towns have the largest error."
   ]
  },
  {
   "cell_type": "code",
   "execution_count": 72,
   "id": "f5d0e965",
   "metadata": {},
   "outputs": [
    {
     "name": "stdout",
     "output_type": "stream",
     "text": [
      "     rooms  area     pop     pop_dens    frg_pct      emp  tax_income  \\\n",
      "774    4.5   147   16841  2623.208723  31.013598  20325.0       86973   \n",
      "526    2.5    72   18944  2438.095238  37.785051   7507.0       89522   \n",
      "655    3.5    97   18791  2851.441578  46.117822  18945.0       65678   \n",
      "581    3.5    83   24990  1486.615110  25.994398  14163.0       68951   \n",
      "380    1.0    39  113173  1662.597326  24.535004  73339.0       70966   \n",
      "\n",
      "     recidual (error)  price  predicted_price  \n",
      "774            212.45   3980          4192.45  \n",
      "526             83.29   1787          1870.29  \n",
      "655            177.04   2210          2387.04  \n",
      "581            159.34   1920          2079.34  \n",
      "380             16.08   1265          1248.92  \n"
     ]
    }
   ],
   "source": [
    "# get all predictions for the training set.\n",
    "y_train_predict = random_forest_model.predict(X_train)\n",
    "df_with_residual = pd.DataFrame(X_train, columns=X_train.columns, copy=True)\n",
    "df_with_residual['recidual (error)'] = np.abs(y_train_predict - y_train)\n",
    "df_with_residual['price'] = y_train\n",
    "df_with_residual['predicted_price'] = y_train_predict\n",
    "print(df_with_residual.head())\n",
    "# Add text, postalcode and town name\n",
    "# we use join instead of merge, because we 'join' on the index column and do not perform a merge using a specific column\n",
    "df_with_residual = df_with_residual.join(df[['description_raw', 'bfs_name', 'postalcode', 'town']])"
   ]
  },
  {
   "cell_type": "code",
   "execution_count": 73,
   "id": "00d6b175",
   "metadata": {},
   "outputs": [
    {
     "data": {
      "text/plain": [
       "pop     bfs_name     \n",
       "420217  Zürich           63\n",
       "35007   Uster             2\n",
       "7228    Oberglatt         1\n",
       "4840    Oetwil am See     1\n",
       "16841   Wallisellen       1\n",
       "9345    Niederhasli       1\n",
       "dtype: int64"
      ]
     },
     "execution_count": 73,
     "metadata": {},
     "output_type": "execute_result"
    }
   ],
   "source": [
    "# check which location has the largest errors.\n",
    "df_with_residual[(df_with_residual['recidual (error)'] > 500)].groupby(['pop', 'bfs_name']).size().sort_values(ascending=False)"
   ]
  },
  {
   "cell_type": "code",
   "execution_count": 74,
   "id": "2f849770",
   "metadata": {},
   "outputs": [],
   "source": [
    "\n",
    "df_with_residual[(df_with_residual['recidual (error)'] > 500)]['description_raw'].to_csv('data_with_large_residuals.csv', \n",
    "          sep=\",\", \n",
    "          encoding='utf-8',\n",
    "          index=False)"
   ]
  },
  {
   "cell_type": "markdown",
   "id": "f208fa2c",
   "metadata": {},
   "source": [
    "Daten laden & erkunden"
   ]
  },
  {
   "cell_type": "code",
   "execution_count": 75,
   "id": "0e2d36b2",
   "metadata": {},
   "outputs": [
    {
     "name": "stdout",
     "output_type": "stream",
     "text": [
      "<class 'pandas.core.frame.DataFrame'>\n",
      "RangeIndex: 819 entries, 0 to 818\n",
      "Data columns (total 14 columns):\n",
      " #   Column           Non-Null Count  Dtype  \n",
      "---  ------           --------------  -----  \n",
      " 0   bfs_number       819 non-null    int64  \n",
      " 1   rooms            819 non-null    float64\n",
      " 2   area             819 non-null    int64  \n",
      " 3   price            819 non-null    int64  \n",
      " 4   postalcode       819 non-null    int64  \n",
      " 5   address          819 non-null    object \n",
      " 6   town             819 non-null    object \n",
      " 7   description_raw  819 non-null    object \n",
      " 8   bfs_name         819 non-null    object \n",
      " 9   pop              819 non-null    int64  \n",
      " 10  pop_dens         819 non-null    float64\n",
      " 11  frg_pct          819 non-null    float64\n",
      " 12  emp              819 non-null    float64\n",
      " 13  tax_income       819 non-null    int64  \n",
      "dtypes: float64(4), int64(6), object(4)\n",
      "memory usage: 89.7+ KB\n"
     ]
    },
    {
     "data": {
      "text/html": [
       "<div>\n",
       "<style scoped>\n",
       "    .dataframe tbody tr th:only-of-type {\n",
       "        vertical-align: middle;\n",
       "    }\n",
       "\n",
       "    .dataframe tbody tr th {\n",
       "        vertical-align: top;\n",
       "    }\n",
       "\n",
       "    .dataframe thead th {\n",
       "        text-align: right;\n",
       "    }\n",
       "</style>\n",
       "<table border=\"1\" class=\"dataframe\">\n",
       "  <thead>\n",
       "    <tr style=\"text-align: right;\">\n",
       "      <th></th>\n",
       "      <th>bfs_number</th>\n",
       "      <th>rooms</th>\n",
       "      <th>area</th>\n",
       "      <th>price</th>\n",
       "      <th>postalcode</th>\n",
       "      <th>address</th>\n",
       "      <th>town</th>\n",
       "      <th>description_raw</th>\n",
       "      <th>bfs_name</th>\n",
       "      <th>pop</th>\n",
       "      <th>pop_dens</th>\n",
       "      <th>frg_pct</th>\n",
       "      <th>emp</th>\n",
       "      <th>tax_income</th>\n",
       "    </tr>\n",
       "  </thead>\n",
       "  <tbody>\n",
       "    <tr>\n",
       "      <th>0</th>\n",
       "      <td>118</td>\n",
       "      <td>3.0</td>\n",
       "      <td>49</td>\n",
       "      <td>1441</td>\n",
       "      <td>8630</td>\n",
       "      <td>Neuhusstrasse 6, 8630 Rüti ZH</td>\n",
       "      <td>Rüti ZH</td>\n",
       "      <td>«Gemütliche Wohnung im Grünen»</td>\n",
       "      <td>Rüti (ZH)</td>\n",
       "      <td>12286</td>\n",
       "      <td>1221.272366</td>\n",
       "      <td>24.841283</td>\n",
       "      <td>5053.0</td>\n",
       "      <td>66676</td>\n",
       "    </tr>\n",
       "    <tr>\n",
       "      <th>1</th>\n",
       "      <td>118</td>\n",
       "      <td>3.0</td>\n",
       "      <td>111</td>\n",
       "      <td>2600</td>\n",
       "      <td>8630</td>\n",
       "      <td>Widacherstrasse 5, 8630 Rüti ZH</td>\n",
       "      <td>Rüti ZH</td>\n",
       "      <td>«3 Zimmer-Maisonette-Wohnung»</td>\n",
       "      <td>Rüti (ZH)</td>\n",
       "      <td>12286</td>\n",
       "      <td>1221.272366</td>\n",
       "      <td>24.841283</td>\n",
       "      <td>5053.0</td>\n",
       "      <td>66676</td>\n",
       "    </tr>\n",
       "    <tr>\n",
       "      <th>2</th>\n",
       "      <td>118</td>\n",
       "      <td>3.0</td>\n",
       "      <td>58</td>\n",
       "      <td>1490</td>\n",
       "      <td>8630</td>\n",
       "      <td>Widenweg 14, 8630 Rüti ZH</td>\n",
       "      <td>Rüti ZH</td>\n",
       "      <td>«Ruhig &amp; Grün , Genau was Sie suchen !»</td>\n",
       "      <td>Rüti (ZH)</td>\n",
       "      <td>12286</td>\n",
       "      <td>1221.272366</td>\n",
       "      <td>24.841283</td>\n",
       "      <td>5053.0</td>\n",
       "      <td>66676</td>\n",
       "    </tr>\n",
       "    <tr>\n",
       "      <th>3</th>\n",
       "      <td>118</td>\n",
       "      <td>4.0</td>\n",
       "      <td>118</td>\n",
       "      <td>3240</td>\n",
       "      <td>8630</td>\n",
       "      <td>Rain 1, 8630 Rüti ZH</td>\n",
       "      <td>Rüti ZH</td>\n",
       "      <td>«Gemütliches 4-Zimmer-Reihenhaus in zentraler ...</td>\n",
       "      <td>Rüti (ZH)</td>\n",
       "      <td>12286</td>\n",
       "      <td>1221.272366</td>\n",
       "      <td>24.841283</td>\n",
       "      <td>5053.0</td>\n",
       "      <td>66676</td>\n",
       "    </tr>\n",
       "    <tr>\n",
       "      <th>4</th>\n",
       "      <td>118</td>\n",
       "      <td>3.0</td>\n",
       "      <td>66</td>\n",
       "      <td>1450</td>\n",
       "      <td>8630</td>\n",
       "      <td>Bachtelstrasse 24b, 8630 Rüti ZH</td>\n",
       "      <td>Rüti ZH</td>\n",
       "      <td>«Schöne 3-Zimmerwohnung in ruhigem Quartier»</td>\n",
       "      <td>Rüti (ZH)</td>\n",
       "      <td>12286</td>\n",
       "      <td>1221.272366</td>\n",
       "      <td>24.841283</td>\n",
       "      <td>5053.0</td>\n",
       "      <td>66676</td>\n",
       "    </tr>\n",
       "  </tbody>\n",
       "</table>\n",
       "</div>"
      ],
      "text/plain": [
       "   bfs_number  rooms  area  price  postalcode  \\\n",
       "0         118    3.0    49   1441        8630   \n",
       "1         118    3.0   111   2600        8630   \n",
       "2         118    3.0    58   1490        8630   \n",
       "3         118    4.0   118   3240        8630   \n",
       "4         118    3.0    66   1450        8630   \n",
       "\n",
       "                            address      town  \\\n",
       "0     Neuhusstrasse 6, 8630 Rüti ZH   Rüti ZH   \n",
       "1   Widacherstrasse 5, 8630 Rüti ZH   Rüti ZH   \n",
       "2         Widenweg 14, 8630 Rüti ZH   Rüti ZH   \n",
       "3              Rain 1, 8630 Rüti ZH   Rüti ZH   \n",
       "4  Bachtelstrasse 24b, 8630 Rüti ZH   Rüti ZH   \n",
       "\n",
       "                                     description_raw   bfs_name    pop  \\\n",
       "0                     «Gemütliche Wohnung im Grünen»  Rüti (ZH)  12286   \n",
       "1                      «3 Zimmer-Maisonette-Wohnung»  Rüti (ZH)  12286   \n",
       "2            «Ruhig & Grün , Genau was Sie suchen !»  Rüti (ZH)  12286   \n",
       "3  «Gemütliches 4-Zimmer-Reihenhaus in zentraler ...  Rüti (ZH)  12286   \n",
       "4       «Schöne 3-Zimmerwohnung in ruhigem Quartier»  Rüti (ZH)  12286   \n",
       "\n",
       "      pop_dens    frg_pct     emp  tax_income  \n",
       "0  1221.272366  24.841283  5053.0       66676  \n",
       "1  1221.272366  24.841283  5053.0       66676  \n",
       "2  1221.272366  24.841283  5053.0       66676  \n",
       "3  1221.272366  24.841283  5053.0       66676  \n",
       "4  1221.272366  24.841283  5053.0       66676  "
      ]
     },
     "execution_count": 75,
     "metadata": {},
     "output_type": "execute_result"
    }
   ],
   "source": [
    "# 📌 Laden der Bibliotheken\n",
    "import pandas as pd\n",
    "\n",
    "# 📌 Daten laden\n",
    "df = pd.read_csv(\"original_apartment_data_analytics_hs24.csv\")\n",
    "\n",
    "# 📌 Überblick über die Datenstruktur\n",
    "df.info()\n",
    "\n",
    "# 📌 Erste Zeilen anzeigen\n",
    "df.head()\n"
   ]
  },
  {
   "cell_type": "markdown",
   "id": "2514b93e",
   "metadata": {},
   "source": [
    "Feature Engineering: \"Ausländeranteil als Preisfaktor\""
   ]
  },
  {
   "cell_type": "code",
   "execution_count": 76,
   "id": "57edd33b",
   "metadata": {},
   "outputs": [
    {
     "data": {
      "text/html": [
       "<div>\n",
       "<style scoped>\n",
       "    .dataframe tbody tr th:only-of-type {\n",
       "        vertical-align: middle;\n",
       "    }\n",
       "\n",
       "    .dataframe tbody tr th {\n",
       "        vertical-align: top;\n",
       "    }\n",
       "\n",
       "    .dataframe thead th {\n",
       "        text-align: right;\n",
       "    }\n",
       "</style>\n",
       "<table border=\"1\" class=\"dataframe\">\n",
       "  <thead>\n",
       "    <tr style=\"text-align: right;\">\n",
       "      <th></th>\n",
       "      <th>town</th>\n",
       "      <th>frg_pct</th>\n",
       "      <th>frg_category</th>\n",
       "    </tr>\n",
       "  </thead>\n",
       "  <tbody>\n",
       "    <tr>\n",
       "      <th>0</th>\n",
       "      <td>Rüti ZH</td>\n",
       "      <td>24.841283</td>\n",
       "      <td>mittel</td>\n",
       "    </tr>\n",
       "    <tr>\n",
       "      <th>1</th>\n",
       "      <td>Rüti ZH</td>\n",
       "      <td>24.841283</td>\n",
       "      <td>mittel</td>\n",
       "    </tr>\n",
       "    <tr>\n",
       "      <th>2</th>\n",
       "      <td>Rüti ZH</td>\n",
       "      <td>24.841283</td>\n",
       "      <td>mittel</td>\n",
       "    </tr>\n",
       "    <tr>\n",
       "      <th>3</th>\n",
       "      <td>Rüti ZH</td>\n",
       "      <td>24.841283</td>\n",
       "      <td>mittel</td>\n",
       "    </tr>\n",
       "    <tr>\n",
       "      <th>4</th>\n",
       "      <td>Rüti ZH</td>\n",
       "      <td>24.841283</td>\n",
       "      <td>mittel</td>\n",
       "    </tr>\n",
       "  </tbody>\n",
       "</table>\n",
       "</div>"
      ],
      "text/plain": [
       "       town    frg_pct frg_category\n",
       "0   Rüti ZH  24.841283       mittel\n",
       "1   Rüti ZH  24.841283       mittel\n",
       "2   Rüti ZH  24.841283       mittel\n",
       "3   Rüti ZH  24.841283       mittel\n",
       "4   Rüti ZH  24.841283       mittel"
      ]
     },
     "execution_count": 76,
     "metadata": {},
     "output_type": "execute_result"
    }
   ],
   "source": [
    "# 📌 Neues Feature basierend auf dem Anteil ausländischer Bevölkerung\n",
    "df[\"frg_category\"] = pd.cut(df[\"frg_pct\"], bins=[0, 20, 40, 100], labels=[\"niedrig\", \"mittel\", \"hoch\"])\n",
    "\n",
    "# 📌 Überprüfen, ob das neue Feature korrekt erstellt wurde\n",
    "df[[\"town\", \"frg_pct\", \"frg_category\"]].head()\n"
   ]
  },
  {
   "cell_type": "markdown",
   "id": "bdb14f80",
   "metadata": {},
   "source": [
    "Feature in numerische Werte umwandeln (Label Encoding)"
   ]
  },
  {
   "cell_type": "code",
   "execution_count": 77,
   "id": "a7fe10a1",
   "metadata": {},
   "outputs": [
    {
     "name": "stdout",
     "output_type": "stream",
     "text": [
      "{'hoch': np.int64(0), 'mittel': np.int64(1), 'niedrig': np.int64(2)}\n"
     ]
    }
   ],
   "source": [
    "from sklearn.preprocessing import LabelEncoder\n",
    "\n",
    "# 📌 Label Encoding für das neue Feature\n",
    "le = LabelEncoder()\n",
    "df[\"frg_category_encoded\"] = le.fit_transform(df[\"frg_category\"])\n",
    "\n",
    "# 📌 Prüfen, welche Zahlen den Kategorien zugewiesen wurden\n",
    "print(dict(zip(le.classes_, le.transform(le.classes_))))"
   ]
  },
  {
   "cell_type": "markdown",
   "id": "21122a2f",
   "metadata": {},
   "source": [
    "Daten für das Modell vorbereiten (Train-Test-Split)"
   ]
  },
  {
   "cell_type": "code",
   "execution_count": 78,
   "id": "d9ee0556",
   "metadata": {},
   "outputs": [
    {
     "name": "stdout",
     "output_type": "stream",
     "text": [
      "Trainingsdaten: (655, 7), Testdaten: (164, 7)\n"
     ]
    }
   ],
   "source": [
    "from sklearn.model_selection import train_test_split\n",
    "\n",
    "# 📌 Auswahl der Features (inkl. des neuen Features)\n",
    "features = [\"rooms\", \"area\", \"pop\", \"pop_dens\", \"emp\", \"tax_income\", \"frg_category_encoded\"]\n",
    "X = df[features]\n",
    "y = df[\"price\"]\n",
    "\n",
    "# 📌 Aufteilen in Trainings- und Testdaten\n",
    "X_train, X_test, y_train, y_test = train_test_split(X, y, test_size=0.2, random_state=42)\n",
    "\n",
    "# 📌 Größe der Datensätze ausgeben\n",
    "print(f\"Trainingsdaten: {X_train.shape}, Testdaten: {X_test.shape}\")\n"
   ]
  },
  {
   "cell_type": "markdown",
   "id": "976844ec",
   "metadata": {},
   "source": [
    "Modell trainieren & evaluieren (Random Forest)"
   ]
  },
  {
   "cell_type": "code",
   "execution_count": 79,
   "id": "e25bdc36",
   "metadata": {},
   "outputs": [
    {
     "name": "stdout",
     "output_type": "stream",
     "text": [
      "Mean Absolute Error: 555.93 CHF\n"
     ]
    }
   ],
   "source": [
    "from sklearn.ensemble import RandomForestRegressor\n",
    "from sklearn.metrics import mean_absolute_error\n",
    "\n",
    "# 📌 Random Forest Modell erstellen & trainieren\n",
    "model = RandomForestRegressor(n_estimators=100, random_state=42)\n",
    "model.fit(X_train, y_train)\n",
    "\n",
    "# 📌 Modell evaluieren\n",
    "y_pred = model.predict(X_test)\n",
    "mae = mean_absolute_error(y_test, y_pred)\n",
    "print(f\"Mean Absolute Error: {mae:.2f} CHF\")\n"
   ]
  },
  {
   "cell_type": "markdown",
   "id": "81427ec7",
   "metadata": {},
   "source": [
    "Modell speichern für Gradio-App"
   ]
  },
  {
   "cell_type": "code",
   "execution_count": 80,
   "id": "5a6eac9e",
   "metadata": {},
   "outputs": [
    {
     "name": "stdout",
     "output_type": "stream",
     "text": [
      "Modell gespeichert als 'trained_model.pkl'\n"
     ]
    }
   ],
   "source": [
    "import joblib\n",
    "\n",
    "# 📌 Trainiertes Modell speichern\n",
    "joblib.dump(model, \"trained_model.pkl\")\n",
    "print(\"Modell gespeichert als 'trained_model.pkl'\")\n"
   ]
  },
  {
   "cell_type": "markdown",
   "id": "306a9fa9",
   "metadata": {},
   "source": [
    "Gradio-App für Preisvorhersage entwickeln"
   ]
  },
  {
   "cell_type": "code",
   "execution_count": 81,
   "id": "3b52d6b0",
   "metadata": {},
   "outputs": [
    {
     "name": "stdout",
     "output_type": "stream",
     "text": [
      "Requirement already satisfied: gradio in /usr/local/python/3.12.1/lib/python3.12/site-packages (5.21.0)\n",
      "Requirement already satisfied: aiofiles<24.0,>=22.0 in /usr/local/python/3.12.1/lib/python3.12/site-packages (from gradio) (23.2.1)\n",
      "Requirement already satisfied: anyio<5.0,>=3.0 in /home/codespace/.local/lib/python3.12/site-packages (from gradio) (4.7.0)\n",
      "Requirement already satisfied: fastapi<1.0,>=0.115.2 in /usr/local/python/3.12.1/lib/python3.12/site-packages (from gradio) (0.115.11)\n",
      "Requirement already satisfied: ffmpy in /usr/local/python/3.12.1/lib/python3.12/site-packages (from gradio) (0.5.0)\n",
      "Requirement already satisfied: gradio-client==1.7.2 in /usr/local/python/3.12.1/lib/python3.12/site-packages (from gradio) (1.7.2)\n",
      "Requirement already satisfied: groovy~=0.1 in /usr/local/python/3.12.1/lib/python3.12/site-packages (from gradio) (0.1.2)\n",
      "Requirement already satisfied: httpx>=0.24.1 in /home/codespace/.local/lib/python3.12/site-packages (from gradio) (0.28.1)\n",
      "Requirement already satisfied: huggingface-hub>=0.28.1 in /usr/local/python/3.12.1/lib/python3.12/site-packages (from gradio) (0.29.3)\n",
      "Requirement already satisfied: jinja2<4.0 in /home/codespace/.local/lib/python3.12/site-packages (from gradio) (3.1.4)\n",
      "Requirement already satisfied: markupsafe~=2.0 in /usr/local/python/3.12.1/lib/python3.12/site-packages (from gradio) (2.1.5)\n",
      "Requirement already satisfied: numpy<3.0,>=1.0 in /home/codespace/.local/lib/python3.12/site-packages (from gradio) (2.2.0)\n",
      "Requirement already satisfied: orjson~=3.0 in /usr/local/python/3.12.1/lib/python3.12/site-packages (from gradio) (3.10.15)\n",
      "Requirement already satisfied: packaging in /home/codespace/.local/lib/python3.12/site-packages (from gradio) (24.2)\n",
      "Requirement already satisfied: pandas<3.0,>=1.0 in /home/codespace/.local/lib/python3.12/site-packages (from gradio) (2.2.3)\n",
      "Requirement already satisfied: pillow<12.0,>=8.0 in /home/codespace/.local/lib/python3.12/site-packages (from gradio) (11.0.0)\n",
      "Requirement already satisfied: pydantic>=2.0 in /usr/local/python/3.12.1/lib/python3.12/site-packages (from gradio) (2.10.6)\n",
      "Requirement already satisfied: pydub in /usr/local/python/3.12.1/lib/python3.12/site-packages (from gradio) (0.25.1)\n",
      "Requirement already satisfied: python-multipart>=0.0.18 in /usr/local/python/3.12.1/lib/python3.12/site-packages (from gradio) (0.0.20)\n",
      "Requirement already satisfied: pyyaml<7.0,>=5.0 in /home/codespace/.local/lib/python3.12/site-packages (from gradio) (6.0.2)\n",
      "Requirement already satisfied: ruff>=0.9.3 in /usr/local/python/3.12.1/lib/python3.12/site-packages (from gradio) (0.11.0)\n",
      "Requirement already satisfied: safehttpx<0.2.0,>=0.1.6 in /usr/local/python/3.12.1/lib/python3.12/site-packages (from gradio) (0.1.6)\n",
      "Requirement already satisfied: semantic-version~=2.0 in /usr/local/python/3.12.1/lib/python3.12/site-packages (from gradio) (2.10.0)\n",
      "Requirement already satisfied: starlette<1.0,>=0.40.0 in /usr/local/python/3.12.1/lib/python3.12/site-packages (from gradio) (0.46.1)\n",
      "Requirement already satisfied: tomlkit<0.14.0,>=0.12.0 in /usr/local/python/3.12.1/lib/python3.12/site-packages (from gradio) (0.13.2)\n",
      "Requirement already satisfied: typer<1.0,>=0.12 in /usr/local/python/3.12.1/lib/python3.12/site-packages (from gradio) (0.15.2)\n",
      "Requirement already satisfied: typing-extensions~=4.0 in /home/codespace/.local/lib/python3.12/site-packages (from gradio) (4.12.2)\n",
      "Requirement already satisfied: uvicorn>=0.14.0 in /usr/local/python/3.12.1/lib/python3.12/site-packages (from gradio) (0.34.0)\n",
      "Requirement already satisfied: fsspec in /home/codespace/.local/lib/python3.12/site-packages (from gradio-client==1.7.2->gradio) (2024.2.0)\n",
      "Requirement already satisfied: websockets<16.0,>=10.0 in /usr/local/python/3.12.1/lib/python3.12/site-packages (from gradio-client==1.7.2->gradio) (15.0.1)\n",
      "Requirement already satisfied: idna>=2.8 in /home/codespace/.local/lib/python3.12/site-packages (from anyio<5.0,>=3.0->gradio) (3.10)\n",
      "Requirement already satisfied: sniffio>=1.1 in /home/codespace/.local/lib/python3.12/site-packages (from anyio<5.0,>=3.0->gradio) (1.3.1)\n",
      "Requirement already satisfied: certifi in /home/codespace/.local/lib/python3.12/site-packages (from httpx>=0.24.1->gradio) (2024.8.30)\n",
      "Requirement already satisfied: httpcore==1.* in /home/codespace/.local/lib/python3.12/site-packages (from httpx>=0.24.1->gradio) (1.0.7)\n",
      "Requirement already satisfied: h11<0.15,>=0.13 in /home/codespace/.local/lib/python3.12/site-packages (from httpcore==1.*->httpx>=0.24.1->gradio) (0.14.0)\n",
      "Requirement already satisfied: filelock in /home/codespace/.local/lib/python3.12/site-packages (from huggingface-hub>=0.28.1->gradio) (3.13.1)\n",
      "Requirement already satisfied: requests in /home/codespace/.local/lib/python3.12/site-packages (from huggingface-hub>=0.28.1->gradio) (2.32.3)\n",
      "Requirement already satisfied: tqdm>=4.42.1 in /usr/local/python/3.12.1/lib/python3.12/site-packages (from huggingface-hub>=0.28.1->gradio) (4.67.1)\n",
      "Requirement already satisfied: python-dateutil>=2.8.2 in /home/codespace/.local/lib/python3.12/site-packages (from pandas<3.0,>=1.0->gradio) (2.9.0.post0)\n",
      "Requirement already satisfied: pytz>=2020.1 in /home/codespace/.local/lib/python3.12/site-packages (from pandas<3.0,>=1.0->gradio) (2024.2)\n",
      "Requirement already satisfied: tzdata>=2022.7 in /home/codespace/.local/lib/python3.12/site-packages (from pandas<3.0,>=1.0->gradio) (2024.2)\n",
      "Requirement already satisfied: annotated-types>=0.6.0 in /usr/local/python/3.12.1/lib/python3.12/site-packages (from pydantic>=2.0->gradio) (0.7.0)\n",
      "Requirement already satisfied: pydantic-core==2.27.2 in /usr/local/python/3.12.1/lib/python3.12/site-packages (from pydantic>=2.0->gradio) (2.27.2)\n",
      "Requirement already satisfied: click>=8.0.0 in /usr/local/python/3.12.1/lib/python3.12/site-packages (from typer<1.0,>=0.12->gradio) (8.1.8)\n",
      "Requirement already satisfied: shellingham>=1.3.0 in /usr/local/python/3.12.1/lib/python3.12/site-packages (from typer<1.0,>=0.12->gradio) (1.5.4)\n",
      "Requirement already satisfied: rich>=10.11.0 in /usr/local/python/3.12.1/lib/python3.12/site-packages (from typer<1.0,>=0.12->gradio) (13.9.4)\n",
      "Requirement already satisfied: six>=1.5 in /home/codespace/.local/lib/python3.12/site-packages (from python-dateutil>=2.8.2->pandas<3.0,>=1.0->gradio) (1.17.0)\n",
      "Requirement already satisfied: markdown-it-py>=2.2.0 in /usr/local/python/3.12.1/lib/python3.12/site-packages (from rich>=10.11.0->typer<1.0,>=0.12->gradio) (3.0.0)\n",
      "Requirement already satisfied: pygments<3.0.0,>=2.13.0 in /home/codespace/.local/lib/python3.12/site-packages (from rich>=10.11.0->typer<1.0,>=0.12->gradio) (2.18.0)\n",
      "Requirement already satisfied: charset-normalizer<4,>=2 in /home/codespace/.local/lib/python3.12/site-packages (from requests->huggingface-hub>=0.28.1->gradio) (3.4.0)\n",
      "Requirement already satisfied: urllib3<3,>=1.21.1 in /home/codespace/.local/lib/python3.12/site-packages (from requests->huggingface-hub>=0.28.1->gradio) (2.2.3)\n",
      "Requirement already satisfied: mdurl~=0.1 in /usr/local/python/3.12.1/lib/python3.12/site-packages (from markdown-it-py>=2.2.0->rich>=10.11.0->typer<1.0,>=0.12->gradio) (0.1.2)\n",
      "\n",
      "\u001b[1m[\u001b[0m\u001b[34;49mnotice\u001b[0m\u001b[1;39;49m]\u001b[0m\u001b[39;49m A new release of pip is available: \u001b[0m\u001b[31;49m24.3.1\u001b[0m\u001b[39;49m -> \u001b[0m\u001b[32;49m25.0.1\u001b[0m\n",
      "\u001b[1m[\u001b[0m\u001b[34;49mnotice\u001b[0m\u001b[1;39;49m]\u001b[0m\u001b[39;49m To update, run: \u001b[0m\u001b[32;49mpython3 -m pip install --upgrade pip\u001b[0m\n",
      "* Running on local URL:  http://127.0.0.1:7863\n",
      "\n",
      "To create a public link, set `share=True` in `launch()`.\n"
     ]
    },
    {
     "data": {
      "text/html": [
       "<div><iframe src=\"http://127.0.0.1:7863/\" width=\"100%\" height=\"500\" allow=\"autoplay; camera; microphone; clipboard-read; clipboard-write;\" frameborder=\"0\" allowfullscreen></iframe></div>"
      ],
      "text/plain": [
       "<IPython.core.display.HTML object>"
      ]
     },
     "metadata": {},
     "output_type": "display_data"
    },
    {
     "data": {
      "text/plain": []
     },
     "execution_count": 81,
     "metadata": {},
     "output_type": "execute_result"
    }
   ],
   "source": [
    "!pip install gradio\n",
    "import gradio as gr\n",
    "\n",
    "# 📌 Trainiertes Modell laden\n",
    "model = joblib.load(\"trained_model.pkl\")\n",
    "\n",
    "# 📌 Label-Encoder für das neue Feature\n",
    "label_encoder = {\"niedrig\": 0, \"mittel\": 1, \"hoch\": 2}\n",
    "\n",
    "# 📌 Vorhersagefunktion für die Web-App\n",
    "def predict(rooms, area, pop, pop_dens, emp, tax_income, frg_category):\n",
    "    frg_encoded = label_encoder.get(frg_category, 1)  # Default: mittel\n",
    "    data = [[rooms, area, pop, pop_dens, emp, tax_income, frg_encoded]]\n",
    "    df = pd.DataFrame(data, columns=[\"rooms\", \"area\", \"pop\", \"pop_dens\", \"emp\", \"tax_income\", \"frg_category_encoded\"])\n",
    "    prediction = model.predict(df)\n",
    "    return f\"Vorhergesagter Mietpreis: {prediction[0]:.2f} CHF\"\n",
    "\n",
    "# 📌 Gradio UI\n",
    "interface = gr.Interface(\n",
    "    fn=predict,\n",
    "    inputs=[\n",
    "        gr.Number(label=\"Zimmeranzahl\"),\n",
    "        gr.Number(label=\"Wohnfläche (m²)\"),\n",
    "        gr.Number(label=\"Bevölkerung\"),\n",
    "        gr.Number(label=\"Bevölkerungsdichte\"),\n",
    "        gr.Number(label=\"Arbeitsplätze\"),\n",
    "        gr.Number(label=\"Steuereinkommen\"),\n",
    "        gr.Dropdown([\"niedrig\", \"mittel\", \"hoch\"], label=\"Ausländeranteil\")\n",
    "    ],\n",
    "    outputs=\"text\"\n",
    ")\n",
    "\n",
    "# 📌 App starten\n",
    "interface.launch()\n"
   ]
  },
  {
   "cell_type": "markdown",
   "id": "06a813cd",
   "metadata": {},
   "source": [
    "Hugging Face Deployment (Optional)"
   ]
  },
  {
   "cell_type": "code",
   "execution_count": 82,
   "id": "dc1c6fcd",
   "metadata": {},
   "outputs": [],
   "source": [
    "# !pip install huggingface_hub\n",
    "# !huggingface-cli login"
   ]
  },
  {
   "cell_type": "code",
   "execution_count": 83,
   "id": "db181447",
   "metadata": {},
   "outputs": [
    {
     "name": "stdout",
     "output_type": "stream",
     "text": [
      "Rerunning server... use `close()` to stop if you need to change `launch()` parameters.\n",
      "----\n",
      "* Running on public URL: https://c4fc389bc0cf532337.gradio.live\n",
      "\n",
      "This share link expires in 72 hours. For free permanent hosting and GPU upgrades, run `gradio deploy` from the terminal in the working directory to deploy to Hugging Face Spaces (https://huggingface.co/spaces)\n"
     ]
    },
    {
     "data": {
      "text/html": [
       "<div><iframe src=\"https://c4fc389bc0cf532337.gradio.live\" width=\"100%\" height=\"500\" allow=\"autoplay; camera; microphone; clipboard-read; clipboard-write;\" frameborder=\"0\" allowfullscreen></iframe></div>"
      ],
      "text/plain": [
       "<IPython.core.display.HTML object>"
      ]
     },
     "metadata": {},
     "output_type": "display_data"
    },
    {
     "data": {
      "text/plain": []
     },
     "execution_count": 83,
     "metadata": {},
     "output_type": "execute_result"
    }
   ],
   "source": [
    "interface.launch(share=True)"
   ]
  }
 ],
 "metadata": {
  "kernelspec": {
   "display_name": "Python 3",
   "language": "python",
   "name": "python3"
  },
  "language_info": {
   "codemirror_mode": {
    "name": "ipython",
    "version": 3
   },
   "file_extension": ".py",
   "mimetype": "text/x-python",
   "name": "python",
   "nbconvert_exporter": "python",
   "pygments_lexer": "ipython3",
   "version": "3.12.1"
  }
 },
 "nbformat": 4,
 "nbformat_minor": 5
}
